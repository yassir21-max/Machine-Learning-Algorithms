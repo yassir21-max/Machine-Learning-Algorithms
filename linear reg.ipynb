{
 "cells": [
  {
   "cell_type": "code",
   "execution_count": 1,
   "metadata": {},
   "outputs": [],
   "source": [
    "import numpy as np\n",
    "import pandas as pd\n",
    "import matplotlib.pyplot as plt\n",
    "import mglearn"
   ]
  },
  {
   "cell_type": "code",
   "execution_count": 3,
   "metadata": {},
   "outputs": [],
   "source": [
    "from sklearn.linear_model import LinearRegression\n",
    "from sklearn.model_selection import train_test_split\n",
    "X, y = mglearn.datasets.make_wave(n_samples=60)\n",
    "X_train, X_test, y_train, y_test = train_test_split(X, y, random_state=42)\n",
    "lr = LinearRegression().fit(X_train, y_train)"
   ]
  },
  {
   "cell_type": "code",
   "execution_count": 4,
   "metadata": {},
   "outputs": [
    {
     "name": "stdout",
     "output_type": "stream",
     "text": [
      "lr.coef_: [0.39390555]\n",
      "lr.intercept_: -0.031804343026759746\n"
     ]
    }
   ],
   "source": [
    "print(\"lr.coef_: {}\".format(lr.coef_))\n",
    "print(\"lr.intercept_: {}\".format(lr.intercept_))"
   ]
  },
  {
   "cell_type": "code",
   "execution_count": 11,
   "metadata": {},
   "outputs": [
    {
     "data": {
      "text/plain": [
       "[<matplotlib.lines.Line2D at 0x22043bf0310>]"
      ]
     },
     "execution_count": 11,
     "metadata": {},
     "output_type": "execute_result"
    },
    {
     "data": {
      "image/png": "[encoded data removed]",
      "text/plain": [
       "<Figure size 432x288 with 1 Axes>"
      ]
     },
     "metadata": {
      "needs_background": "light"
     },
     "output_type": "display_data"
    }
   ],
   "source": [
    "plt.plot(X,y,'o')"
   ]
  },
  {
   "cell_type": "code",
   "execution_count": 12,
   "metadata": {},
   "outputs": [
    {
     "name": "stdout",
     "output_type": "stream",
     "text": [
      "Training set score: 0.67\n",
      "Test set score: 0.66\n"
     ]
    }
   ],
   "source": [
    "print(\"Training set score: {:.2f}\".format(lr.score(X_train, y_train)))\n",
    "print(\"Test set score: {:.2f}\".format(lr.score(X_test, y_test)))"
   ]
  },
  {
   "cell_type": "code",
   "execution_count": 5,
   "metadata": {},
   "outputs": [],
   "source": [
    "X, y = mglearn.datasets.load_extended_boston()\n",
    "X_train, X_test, y_train, y_test = train_test_split(X, y, random_state=0)\n",
    "lr = LinearRegression().fit(X_train, y_train)"
   ]
  },
  {
   "cell_type": "code",
   "execution_count": 14,
   "metadata": {},
   "outputs": [
    {
     "name": "stdout",
     "output_type": "stream",
     "text": [
      "Training set score: 0.95\n",
      "Test set score: 0.61\n"
     ]
    }
   ],
   "source": [
    "print(\"Training set score: {:.2f}\".format(lr.score(X_train, y_train)))\n",
    "print(\"Test set score: {:.2f}\".format(lr.score(X_test, y_test)))"
   ]
  },
  {
   "cell_type": "code",
   "execution_count": 6,
   "metadata": {},
   "outputs": [
    {
     "name": "stdout",
     "output_type": "stream",
     "text": [
      "Training set score: 0.89\n",
      "Test set score: 0.75\n"
     ]
    }
   ],
   "source": [
    "#ridge regression to avoid overfitting\n",
    "from sklearn.linear_model import Ridge \n",
    "ridge = Ridge().fit(X_train, y_train)\n",
    "print(\"Training set score: {:.2f}\".format(ridge.score(X_train, y_train)))\n",
    "print(\"Test set score: {:.2f}\".format(ridge.score(X_test, y_test)))"
   ]
  },
  {
   "cell_type": "code",
   "execution_count": 7,
   "metadata": {},
   "outputs": [
    {
     "name": "stdout",
     "output_type": "stream",
     "text": [
      "Training set score: 0.29\n",
      "Test set score: 0.21\n",
      "Number of features used: 4\n"
     ]
    }
   ],
   "source": [
    "#lasso\n",
    "from sklearn.linear_model import Lasso\n",
    "lasso = Lasso().fit(X_train, y_train)\n",
    "print(\"Training set score: {:.2f}\".format(lasso.score(X_train, y_train)))\n",
    "print(\"Test set score: {:.2f}\".format(lasso.score(X_test, y_test)))\n",
    "print(\"Number of features used: {}\".format(np.sum(lasso.coef_ != 0)))"
   ]
  },
  {
   "cell_type": "code",
   "execution_count": 10,
   "metadata": {},
   "outputs": [
    {
     "name": "stderr",
     "output_type": "stream",
     "text": [
      "C:\\Users\\asus\\anaconda3\\lib\\site-packages\\sklearn\\svm\\_base.py:976: ConvergenceWarning: Liblinear failed to converge, increase the number of iterations.\n",
      "  warnings.warn(\"Liblinear failed to converge, increase \"\n"
     ]
    },
    {
     "data": {
      "text/plain": [
       "<matplotlib.legend.Legend at 0x2a53e126190>"
      ]
     },
     "execution_count": 10,
     "metadata": {},
     "output_type": "execute_result"
    },
    {
     "data": {
      "image/png": "[encoded data removed]",
      "text/plain": [
       "<Figure size 720x216 with 2 Axes>"
      ]
     },
     "metadata": {},
     "output_type": "display_data"
    }
   ],
   "source": [
    "# logistic and SVM are classification (not regression) algorithms\n",
    "from sklearn.datasets import make_blobs\n",
    "from sklearn.linear_model import LogisticRegression\n",
    "from sklearn.svm import LinearSVC\n",
    "X,y = mglearn.datasets.make_forge()\n",
    "fig, axes = plt.subplots(1, 2, figsize=(10, 3))\n",
    "for model, ax in zip([LinearSVC(), LogisticRegression()], axes):\n",
    "    clf = model.fit(X, y)\n",
    "    mglearn.plots.plot_2d_separator(clf, X, fill=False, eps=0.5,ax=ax, alpha=.7)\n",
    "    mglearn.discrete_scatter(X[:, 0], X[:, 1], y, ax=ax)    \n",
    "    ax.set_title(\"{}\".format(clf.__class__.__name__))\n",
    "    ax.set_xlabel(\"Feature 0\")    \n",
    "    ax.set_ylabel(\"Feature 1\")\n",
    "axes[0].legend()         "
   ]
  },
  {
   "cell_type": "code",
   "execution_count": 18,
   "metadata": {},
   "outputs": [
    {
     "data": {
      "text/plain": [
       "array([18.5, 19.6, 33.2, 13.1,  7.5, 13.6, 17.4,  8.4, 35.4, 24. , 13.4,\n",
       "       26.2,  7.2, 13.1, 24.5, 37.2, 25. , 24.1, 16.6, 32.9, 36.2, 11. ,\n",
       "        7.2, 22.8, 28.7, 14.4, 24.4, 18.1, 22.5, 20.5, 15.2, 17.4, 13.6,\n",
       "        8.7, 18.2, 35.4, 31.7, 33. , 22.2, 20.4, 23.9, 25. , 12.7, 29.1,\n",
       "       12. , 17.7, 27. , 20.6, 10.2, 17.5, 19.7, 29.8, 20.5, 14.9, 10.9,\n",
       "       19.5, 22.7, 19.5, 24.6, 25. , 24.5, 50. , 14.3, 11.8, 31. , 28.7,\n",
       "       16.2, 43.5, 25. , 22. , 19.9, 22.1, 46. , 22.9, 20.2, 43.1, 34.6,\n",
       "       13.8, 24.3, 21.5, 24.4, 21.2, 23.8, 26.6, 25.1,  9.6, 19.4, 19.4,\n",
       "        9.5, 14. , 26.5, 13.8, 34.7, 16.3, 21.7, 17.5, 15.6, 20.9, 21.7,\n",
       "       12.7, 18.5, 23.7, 19.3, 12.7, 21.6, 23.2, 29.6, 21.2, 23.8, 17.1,\n",
       "       22. , 36.5, 18.8, 21.9, 23.1, 20.2, 17.4, 37. , 24.1, 36.2, 15.7,\n",
       "       32.2, 13.5, 17.9, 13.3, 11.7, 41.7, 18.4, 13.1, 25. , 21.2, 16. ,\n",
       "       34.9, 25.2, 24.8, 21.5, 23.4, 18.9, 10.8, 21. , 27.5, 17.5, 13.5,\n",
       "       28.7, 14.8, 19.1, 28.6, 13.1, 19. , 11.3, 13.3, 22.4, 20.1, 18.2,\n",
       "       22.9, 20.6, 25. , 12.8, 34.9, 23.7, 50. , 29. , 30.1, 22. , 15.6,\n",
       "       23.3, 30.1, 14.3, 22.8, 50. , 20.8,  6.3, 34.9, 32.4, 19.9, 20.3,\n",
       "       17.8, 23.1, 20.4, 23.2,  7. , 16.8, 46.7, 50. , 22.9, 23.9, 21.4,\n",
       "       21.7, 15.4, 15.3, 23.1, 23.9, 19.4, 11.9, 17.8, 31.5, 33.8, 20.8,\n",
       "       19.8, 22.4,  5. , 24.5, 19.4, 15.1, 18.2, 19.3, 27.1, 20.7, 37.6,\n",
       "       11.7, 33.4, 30.1, 21.4, 45.4, 20.1, 20.8, 26.4, 10.4, 21.8, 32. ,\n",
       "       21.7, 18.4, 37.9, 17.8, 28. , 28.2, 36. , 18.9, 15. , 22.5, 30.7,\n",
       "       20. , 19.1, 23.3, 26.6, 21.1, 19.7, 20. , 12.1,  7.2, 14.2, 17.3,\n",
       "       27.5, 22.2, 10.9, 19.2, 32. , 14.5, 24.7, 12.6, 24. , 24.1, 50. ,\n",
       "       16.1, 43.8, 26.6, 36.1, 21.8, 29.9, 50. , 44. , 20.6, 19.6, 28.4,\n",
       "       19.1, 22.3, 20.9, 28.4, 14.4, 32.7, 13.8,  8.5, 22.5, 35.1, 31.6,\n",
       "       17.8, 15.6, 20.7, 39.8, 17.8, 19.6, 14.9, 22. , 48.8, 25. , 48.5,\n",
       "       23.9, 20.3, 15.2, 10.5, 19. , 16.4,  8.8, 22. , 24.8, 50. , 19.3,\n",
       "       22.7, 37.3, 31.6,  8.3, 23.1, 50. , 13.9, 16.1, 25.3, 19.5, 10.2,\n",
       "       19.9, 35.2, 13.4, 24.7, 11.5, 23.4, 16.7, 15.4, 18. , 28.5, 18.4,\n",
       "       32.5, 50. , 50. , 19.6, 17.6, 42.3, 14.5, 13.2, 16.2, 29.6, 16.7,\n",
       "       13. , 22.3, 13.4,  5. , 19.5, 14.6, 22. ,  8.1, 24.6, 33.2, 20.6,\n",
       "       14.1, 14.1, 21.1, 30.3, 23.7, 21.4, 18.3,  8.5, 22.8, 22.8, 22.2,\n",
       "       13.9, 25. , 18.5,  7. , 22.6, 20.1, 30.8, 31.1, 23.8, 12.5, 23.6,\n",
       "       23.2, 24.2, 22.2, 27.9, 22.2, 33.1, 19.3, 18.9, 22.6, 50. , 24.8,\n",
       "       18.5, 36.4, 19.2, 16.6, 23.1])"
      ]
     },
     "execution_count": 18,
     "metadata": {},
     "output_type": "execute_result"
    }
   ],
   "source": []
  },
  {
   "cell_type": "code",
   "execution_count": null,
   "metadata": {},
   "outputs": [],
   "source": []
  }
 ],
 "metadata": {
  "kernelspec": {
   "display_name": "Python 3",
   "language": "python",
   "name": "python3"
  },
  "language_info": {
   "codemirror_mode": {
    "name": "ipython",
    "version": 3
   },
   "file_extension": ".py",
   "mimetype": "text/x-python",
   "name": "python",
   "nbconvert_exporter": "python",
   "pygments_lexer": "ipython3",
   "version": "3.8.5"
  }
 },
 "nbformat": 4,
 "nbformat_minor": 4
}
